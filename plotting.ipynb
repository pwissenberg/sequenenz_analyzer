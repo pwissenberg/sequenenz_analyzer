{
 "cells": [
  {
   "cell_type": "code",
   "execution_count": 30,
   "metadata": {},
   "outputs": [],
   "source": [
    "import os \n",
    "# create one endo and one exo file\n",
    "endo_dict = {}\n",
    "exo_dict = {} \n",
    "\n",
    "os.chdir('/Users/paulwissenberg/Coding/sequenenz_analyzer/occurences')\n",
    "files =  os.listdir()\n",
    "\n",
    "for file in files:\n",
    "    if file.startswith('endo'):\n",
    "        with open(file,'r') as f:\n",
    "            for line in f.readlines():\n",
    "                line = line.replace('\\n','')\n",
    "                key = line.split(',')[0]\n",
    "                value = line.split(',')[1]\n",
    "\n",
    "                if key in endo_dict:\n",
    "                    endo_dict[key] += int(value)\n",
    "                else:\n",
    "                    endo_dict[key] = int(value)\n",
    "\n",
    "    else:\n",
    "        with open(file,'r') as f:\n",
    "            for line in f.readlines():\n",
    "                line = line.replace('\\n','')\n",
    "                key = line.split(',')[0]\n",
    "                value = line.split(',')[1]\n",
    "\n",
    "                if key in exo_dict:\n",
    "                    exo_dict[key] += int(value)\n",
    "                else:\n",
    "                    exo_dict[key] = int(value)"
   ]
  },
  {
   "cell_type": "code",
   "execution_count": 33,
   "metadata": {},
   "outputs": [
    {
     "data": {
      "image/png": "[encoded data removed]",
      "text/plain": [
       "<Figure size 640x480 with 2 Axes>"
      ]
     },
     "metadata": {},
     "output_type": "display_data"
    }
   ],
   "source": [
    "import matplotlib.pyplot as plt\n",
    "\n",
    "plt.style.use('ggplot')\n",
    "\n",
    "endo_words = list(endo_dict.keys())\n",
    "endo_counts = list(endo_dict.values())\n",
    "\n",
    "exo_words = list(exo_dict.keys())\n",
    "exo_counts = list(exo_dict.values())\n",
    "\n",
    "# Create the bar chart\n",
    "fig, (ax1, ax2) = plt.subplots(nrows=1, ncols=2)\n",
    "ax1.bar(endo_words, endo_counts)\n",
    "\n",
    "ax2.bar(exo_words, exo_counts)\n",
    "\n",
    "# Add labels and title\n",
    "\"\"\" ax.set_ylabel('Number of Occurrences')\n",
    "ax.set_xlabel('Category')\n",
    "ax.set_title('Occurrences of Ordinary Values in Categories')\n",
    "\n",
    "# Add tick labels for the ordinary values\n",
    "ax.set_xticklabels([''] + ordinary_values) \"\"\"\n",
    "\n",
    "plt.show()"
   ]
  },
  {
   "cell_type": "code",
   "execution_count": 43,
   "metadata": {},
   "outputs": [
    {
     "name": "stdout",
     "output_type": "stream",
     "text": [
      "CLC8o---: 2171,  Z-Norm: 16.6551585131045| 14230,Z-Norm: 19.205529838856613\n",
      "PLC0o---: 1612,  Z-Norm: 12.273699477428904| 14737,Z-Norm: 19.899423634145283\n",
      "ELC0o---: 1451,  Z-Norm: 11.01177657091053| 10768,Z-Norm: 14.467343804755277\n",
      "SLC0o---: 1434,  Z-Norm: 10.87853005283095| 13096,Z-Norm: 17.65350703045947\n",
      "KLC0o---: 1418,  Z-Norm: 10.753121565226639| 8524,Z-Norm: 11.39614523152495\n",
      "VEE6o---: 1279,  Z-Norm: 9.663635329164192| 6699,Z-Norm: 8.898401293848769\n",
      "ALC0o---: 1200,  Z-Norm: 9.04443092161791| 10703,Z-Norm: 14.37838306176955\n",
      "CEE8o---: 1189,  Z-Norm: 8.958212586389946| 9082,Z-Norm: 12.159838994387036\n",
      "TLC0o---: 1177,  Z-Norm: 8.864156220686713| 8086,Z-Norm: 10.796686686482666\n",
      "LLC0o---: 1136,  Z-Norm: 8.542796971200667| 9427,Z-Norm: 12.632015245618971\n",
      "_________\n",
      "PLC0o---: 14737,  Z-Norm: 19.899423634145283| 1612,Z-Norm: 12.273699477428904\n",
      "CLC8o---: 14230,  Z-Norm: 19.205529838856613| 2171,Z-Norm: 16.6551585131045\n",
      "GLC0o---: 14040,  Z-Norm: 18.945490743975256| 750,Z-Norm: 5.517317207746679\n",
      "SLC0o---: 13096,  Z-Norm: 17.65350703045947| 1434,Z-Norm: 10.87853005283095\n",
      "ELC0o---: 10768,  Z-Norm: 14.467343804755277| 1451,Z-Norm: 11.01177657091053\n",
      "ALC0o---: 10703,  Z-Norm: 14.37838306176955| 1200,Z-Norm: 9.04443092161791\n",
      "PLC0i---: 10111,  Z-Norm: 13.568155987191853| 106,Z-Norm: 0.46962558167318225\n",
      "DLC0o---: 9610,  Z-Norm: 12.882473952794172| 1122,Z-Norm: 8.433064544546896\n",
      "LLC0o---: 9427,  Z-Norm: 12.632015245618971| 1136,Z-Norm: 8.542796971200667\n",
      "CEE8o---: 9082,  Z-Norm: 12.159838994387036| 1189,Z-Norm: 8.958212586389946\n"
     ]
    }
   ],
   "source": [
    "import statistics\n",
    "\n",
    "def norm_min_max(values: list[int], x : int) -> float:\n",
    "    # x - min / max() - min()\n",
    "    return (float(x)-min(values))/max(values) - min(values)\n",
    "\n",
    "def norm_z(values: list[int], x: int) -> float:\n",
    "    # (x-mean(x))/std()\n",
    "    return (float(x)-statistics.mean(values))/statistics.stdev(values)\n",
    "\n",
    "sorted_items = sorted(\n",
    "            exo_dict.items(), key=lambda x: x[1], reverse=True\n",
    "        )\n",
    "counter = 0        \n",
    "\n",
    "for key, value in sorted_items:\n",
    "    print(f\"{key}: {value}, \"+\n",
    "    #f\"Min-Max-Norm: {norm_min_max(list(exo_dict.values()), value)},\"+\n",
    "    f\" Z-Norm: {norm_z(list(exo_dict.values()), value)}| \"+\n",
    "    f\"{endo_dict[key]},\"+\n",
    "    #f\"Min-Max-Norm: {norm_min_max(list(endo_dict.values()), endo_dict[key])},\"+\n",
    "    f\"Z-Norm: {norm_z(list(endo_dict.values()), endo_dict[key])}\")\n",
    "\n",
    "    counter += 1\n",
    "    if counter == 10:\n",
    "        break\n",
    "print('_________')\n",
    "sorted_items = sorted(\n",
    "            endo_dict.items(), key=lambda x: x[1], reverse=True\n",
    "        )\n",
    "counter = 0\n",
    "\n",
    "for key, value in sorted_items:\n",
    "    print(f\"{key}: {value}, \"+\n",
    "    #f\"Min-Max-Norm: {norm_min_max(list(exo_dict.values()), value)},\"+\n",
    "    f\" Z-Norm: {norm_z(list(endo_dict.values()), value)}| \"+\n",
    "    f\"{exo_dict[key]},\"+\n",
    "    #f\"Min-Max-Norm: {norm_min_max(list(endo_dict.values()), endo_dict[key])},\"+\n",
    "    f\"Z-Norm: {norm_z(list(exo_dict.values()), exo_dict[key])}\")\n",
    "    counter += 1\n",
    "    if counter == 10:\n",
    "        break\n"
   ]
  }
 ],
 "metadata": {
  "kernelspec": {
   "display_name": "ExoChem",
   "language": "python",
   "name": "python3"
  },
  "language_info": {
   "codemirror_mode": {
    "name": "ipython",
    "version": 3
   },
   "file_extension": ".py",
   "mimetype": "text/x-python",
   "name": "python",
   "nbconvert_exporter": "python",
   "pygments_lexer": "ipython3",
   "version": "3.9.15"
  },
  "orig_nbformat": 4,
  "vscode": {
   "interpreter": {
    "hash": "53737ab1682b6a81dc0c93caf5318a30e668ebe545f2ad01d0fe0d1770f6f905"
   }
  }
 },
 "nbformat": 4,
 "nbformat_minor": 2
}
